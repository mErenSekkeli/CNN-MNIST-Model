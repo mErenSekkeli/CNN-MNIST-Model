{
 "cells": [
  {
   "cell_type": "code",
   "execution_count": 13,
   "id": "initial_id",
   "metadata": {
    "ExecuteTime": {
     "end_time": "2023-11-21T10:44:21.033630100Z",
     "start_time": "2023-11-21T10:44:20.999423600Z"
    }
   },
   "outputs": [],
   "source": [
    "import pandas as pd\n",
    "import numpy as np\n",
    "import matplotlib.pyplot as plt\n",
    "import seaborn as sns"
   ]
  },
  {
   "cell_type": "markdown",
   "id": "d3203fdce8859414",
   "metadata": {},
   "source": [
    "### Load the Data\n",
    "* MNIST dataset"
   ]
  },
  {
   "cell_type": "code",
   "execution_count": 4,
   "id": "97eb8569b864d5db",
   "metadata": {
    "ExecuteTime": {
     "end_time": "2023-11-21T10:42:51.600333400Z",
     "start_time": "2023-11-21T10:42:51.581384300Z"
    }
   },
   "outputs": [],
   "source": [
    "from keras.datasets import mnist"
   ]
  },
  {
   "cell_type": "code",
   "execution_count": 5,
   "id": "6670604d8cefa32f",
   "metadata": {
    "ExecuteTime": {
     "end_time": "2023-11-21T10:42:52.413489900Z",
     "start_time": "2023-11-21T10:42:52.174889300Z"
    }
   },
   "outputs": [],
   "source": [
    "(x_train, y_train), (x_test, y_test) = mnist.load_data()"
   ]
  },
  {
   "cell_type": "code",
   "execution_count": 6,
   "id": "57c734a6329e1968",
   "metadata": {
    "ExecuteTime": {
     "end_time": "2023-11-21T10:42:53.088154400Z",
     "start_time": "2023-11-21T10:42:53.055242500Z"
    }
   },
   "outputs": [
    {
     "data": {
      "text/plain": "(60000, 28, 28)"
     },
     "execution_count": 6,
     "metadata": {},
     "output_type": "execute_result"
    }
   ],
   "source": [
    "x_train.shape"
   ]
  },
  {
   "cell_type": "code",
   "execution_count": null,
   "id": "c4b598bbcb61a8fc",
   "metadata": {
    "ExecuteTime": {
     "start_time": "2023-11-21T10:41:39.671020300Z"
    }
   },
   "outputs": [
    {
     "data": {
      "text/plain": "<matplotlib.image.AxesImage at 0x2193d9a4310>"
     },
     "execution_count": 7,
     "metadata": {},
     "output_type": "execute_result"
    }
   ],
   "source": [
    "plt.imshow(x_train[0])"
   ]
  },
  {
   "cell_type": "code",
   "execution_count": null,
   "id": "94a1caca9ac9a3df",
   "metadata": {},
   "outputs": [],
   "source": [
    "x_train.max()"
   ]
  },
  {
   "cell_type": "markdown",
   "id": "d10b88a8b3093163",
   "metadata": {},
   "source": [
    "### Preprocessing\n",
    "* Normalizing the data\n",
    "* Reshaping the data"
   ]
  },
  {
   "cell_type": "code",
   "execution_count": 7,
   "id": "d1ab7499f031d4d1",
   "metadata": {
    "ExecuteTime": {
     "end_time": "2023-11-21T10:42:56.325155Z",
     "start_time": "2023-11-21T10:42:56.184497900Z"
    }
   },
   "outputs": [],
   "source": [
    "# Normalizing the data\n",
    "x_train = x_train / x_train.max()\n",
    "X_test = x_test / x_test.max()"
   ]
  },
  {
   "cell_type": "code",
   "execution_count": 8,
   "id": "9b53bbb316fbacb5",
   "metadata": {
    "ExecuteTime": {
     "end_time": "2023-11-21T10:42:57.060605600Z",
     "start_time": "2023-11-21T10:42:57.039662100Z"
    }
   },
   "outputs": [],
   "source": [
    "# batch_size, width, height, color_channels\n",
    "x_train = x_train.reshape(-1, 28, 28, 1) # -1: batch_size, 28: width, 28: height, 1: color_channels\n",
    "x_test = x_test.reshape(-1, 28, 28, 1)"
   ]
  },
  {
   "cell_type": "code",
   "execution_count": 9,
   "outputs": [],
   "source": [
    "# One-hot encode the labels\n",
    "from keras.utils import to_categorical\n",
    "y_train = to_categorical(y_train)\n",
    "y_test = to_categorical(y_test)"
   ],
   "metadata": {
    "collapsed": false,
    "ExecuteTime": {
     "end_time": "2023-11-21T10:42:57.736900Z",
     "start_time": "2023-11-21T10:42:57.692020100Z"
    }
   },
   "id": "6c726cf9d8ea342"
  },
  {
   "cell_type": "markdown",
   "id": "e778783ab8d0c228",
   "metadata": {},
   "source": [
    "### Creating and Training the Model"
   ]
  },
  {
   "cell_type": "code",
   "execution_count": 2,
   "id": "714285ee1f1757e3",
   "metadata": {
    "ExecuteTime": {
     "end_time": "2023-11-21T10:42:30.366403200Z",
     "start_time": "2023-11-21T10:42:26.666724600Z"
    }
   },
   "outputs": [
    {
     "name": "stdout",
     "output_type": "stream",
     "text": [
      "Model: \"sequential\"\n",
      "_________________________________________________________________\n",
      " Layer (type)                Output Shape              Param #   \n",
      "=================================================================\n",
      " conv2d (Conv2D)             (None, 25, 25, 32)        544       \n",
      "                                                                 \n",
      " max_pooling2d (MaxPooling2D  (None, 12, 12, 32)       0         \n",
      " )                                                               \n",
      "                                                                 \n",
      " flatten (Flatten)           (None, 4608)              0         \n",
      "                                                                 \n",
      " dense (Dense)               (None, 128)               589952    \n",
      "                                                                 \n",
      " dense_1 (Dense)             (None, 10)                1290      \n",
      "                                                                 \n",
      "=================================================================\n",
      "Total params: 591,786\n",
      "Trainable params: 591,786\n",
      "Non-trainable params: 0\n",
      "_________________________________________________________________\n"
     ]
    }
   ],
   "source": [
    "from keras.models import Sequential\n",
    "from keras.layers import Dense, Conv2D, MaxPool2D, Flatten\n",
    "\n",
    "model = Sequential()\n",
    "\n",
    "model.add(Conv2D(filters=32, kernel_size=(4, 4), activation='relu', input_shape=(28, 28, 1)))\n",
    "model.add(MaxPool2D(pool_size=(2, 2)))\n",
    "model.add(Flatten())\n",
    "model.add(Dense(128, activation='relu'))\n",
    "model.add(Dense(10, activation='softmax')) # Softmax because of output will be the multi class\n",
    "model.compile(optimizer='adam', loss='categorical_crossentropy', metrics=['accuracy'])\n",
    "model.summary()"
   ]
  },
  {
   "cell_type": "code",
   "execution_count": 10,
   "id": "aa28e33d47c0722c",
   "metadata": {
    "ExecuteTime": {
     "end_time": "2023-11-21T10:43:00.496228900Z",
     "start_time": "2023-11-21T10:43:00.447806800Z"
    }
   },
   "outputs": [],
   "source": [
    "from keras.callbacks import EarlyStopping\n",
    "\n",
    "early_stop = EarlyStopping(monitor='val_loss', patience=1) # patience: how many epochs to wait before stopping"
   ]
  },
  {
   "cell_type": "code",
   "execution_count": 11,
   "id": "df7a4bb88bb13bda",
   "metadata": {
    "ExecuteTime": {
     "end_time": "2023-11-21T10:44:11.036496700Z",
     "start_time": "2023-11-21T10:43:02.080399100Z"
    }
   },
   "outputs": [
    {
     "name": "stdout",
     "output_type": "stream",
     "text": [
      "Epoch 1/10\n",
      "1875/1875 [==============================] - 24s 12ms/step - loss: 0.1399 - accuracy: 0.9570 - val_loss: 13.7077 - val_accuracy: 0.9705\n",
      "Epoch 2/10\n",
      "1875/1875 [==============================] - 25s 13ms/step - loss: 0.0475 - accuracy: 0.9855 - val_loss: 13.1132 - val_accuracy: 0.9762\n",
      "Epoch 3/10\n",
      "1875/1875 [==============================] - 19s 10ms/step - loss: 0.0294 - accuracy: 0.9907 - val_loss: 52.6589 - val_accuracy: 0.9336\n"
     ]
    },
    {
     "data": {
      "text/plain": "<keras.callbacks.History at 0x1b55404ada0>"
     },
     "execution_count": 11,
     "metadata": {},
     "output_type": "execute_result"
    }
   ],
   "source": [
    "model.fit(x_train, y_train, epochs=10, validation_data=(x_test, y_test), callbacks=[early_stop])"
   ]
  },
  {
   "cell_type": "code",
   "execution_count": 14,
   "id": "4b5257c3",
   "metadata": {
    "ExecuteTime": {
     "end_time": "2023-11-21T10:44:23.770226500Z",
     "start_time": "2023-11-21T10:44:23.740274800Z"
    }
   },
   "outputs": [
    {
     "data": {
      "text/plain": "       loss  accuracy   val_loss  val_accuracy\n0  0.139927  0.956967  13.707724        0.9705\n1  0.047512  0.985517  13.113235        0.9762\n2  0.029396  0.990683  52.658863        0.9336",
      "text/html": "<div>\n<style scoped>\n    .dataframe tbody tr th:only-of-type {\n        vertical-align: middle;\n    }\n\n    .dataframe tbody tr th {\n        vertical-align: top;\n    }\n\n    .dataframe thead th {\n        text-align: right;\n    }\n</style>\n<table border=\"1\" class=\"dataframe\">\n  <thead>\n    <tr style=\"text-align: right;\">\n      <th></th>\n      <th>loss</th>\n      <th>accuracy</th>\n      <th>val_loss</th>\n      <th>val_accuracy</th>\n    </tr>\n  </thead>\n  <tbody>\n    <tr>\n      <th>0</th>\n      <td>0.139927</td>\n      <td>0.956967</td>\n      <td>13.707724</td>\n      <td>0.9705</td>\n    </tr>\n    <tr>\n      <th>1</th>\n      <td>0.047512</td>\n      <td>0.985517</td>\n      <td>13.113235</td>\n      <td>0.9762</td>\n    </tr>\n    <tr>\n      <th>2</th>\n      <td>0.029396</td>\n      <td>0.990683</td>\n      <td>52.658863</td>\n      <td>0.9336</td>\n    </tr>\n  </tbody>\n</table>\n</div>"
     },
     "execution_count": 14,
     "metadata": {},
     "output_type": "execute_result"
    }
   ],
   "source": [
    "metrics = pd.DataFrame(model.history.history)\n",
    "metrics"
   ]
  },
  {
   "cell_type": "code",
   "execution_count": 15,
   "outputs": [
    {
     "name": "stdout",
     "output_type": "stream",
     "text": [
      "313/313 [==============================] - 1s 2ms/step\n"
     ]
    },
    {
     "data": {
      "text/plain": "array([[0.        , 0.        , 0.        , ..., 0.99999994, 0.        ,\n        0.        ],\n       [0.        , 0.        , 0.99999994, ..., 0.        , 0.        ,\n        0.        ],\n       [0.        , 0.99999994, 0.        , ..., 0.        , 0.        ,\n        0.        ],\n       ...,\n       [0.        , 0.        , 0.        , ..., 0.        , 0.        ,\n        0.        ],\n       [0.        , 0.        , 0.        , ..., 0.        , 0.        ,\n        0.        ],\n       [0.        , 0.        , 0.        , ..., 0.        , 0.        ,\n        0.        ]], dtype=float32)"
     },
     "execution_count": 15,
     "metadata": {},
     "output_type": "execute_result"
    }
   ],
   "source": [
    "predictions = model.predict(x_test)\n",
    "predictions"
   ],
   "metadata": {
    "collapsed": false,
    "ExecuteTime": {
     "end_time": "2023-11-21T10:44:27.012215100Z",
     "start_time": "2023-11-21T10:44:25.978604200Z"
    }
   },
   "id": "6be1d68e3620c339"
  },
  {
   "cell_type": "code",
   "execution_count": 16,
   "outputs": [
    {
     "name": "stdout",
     "output_type": "stream",
     "text": [
      "              precision    recall  f1-score   support\n",
      "\n",
      "           0       1.00      0.97      0.99       980\n",
      "           1       1.00      0.79      0.88      1135\n",
      "           2       0.98      0.93      0.96      1032\n",
      "           3       0.98      0.98      0.98      1010\n",
      "           4       1.00      0.93      0.96       982\n",
      "           5       0.99      0.97      0.98       892\n",
      "           6       0.98      0.96      0.97       958\n",
      "           7       0.99      0.95      0.97      1028\n",
      "           8       0.63      1.00      0.77       974\n",
      "           9       0.99      0.88      0.93      1009\n",
      "\n",
      "    accuracy                           0.93     10000\n",
      "   macro avg       0.95      0.94      0.94     10000\n",
      "weighted avg       0.95      0.93      0.94     10000\n"
     ]
    }
   ],
   "source": [
    "from sklearn.metrics import classification_report, confusion_matrix\n",
    "predictions = np.argmax(predictions, axis=1)\n",
    "y_test = np.argmax(y_test, axis=1)\n",
    "print(classification_report(y_test, predictions))"
   ],
   "metadata": {
    "collapsed": false,
    "ExecuteTime": {
     "end_time": "2023-11-21T10:44:46.856858100Z",
     "start_time": "2023-11-21T10:44:46.602536900Z"
    }
   },
   "id": "da42195fa5f55fcd"
  },
  {
   "cell_type": "code",
   "execution_count": 17,
   "outputs": [
    {
     "name": "stdout",
     "output_type": "stream",
     "text": [
      "[[954   0   0   0   0   1   4   1  20   0]\n",
      " [  0 893   5   6   0   0   1   2 228   0]\n",
      " [  0   0 963   0   0   0   4   2  63   0]\n",
      " [  0   0   1 985   0   2   0   1  21   0]\n",
      " [  0   0   2   0 915   0   4   0  52   9]\n",
      " [  0   0   0   5   0 862   2   1  22   0]\n",
      " [  2   1   0   1   1   2 919   0  32   0]\n",
      " [  0   0  10   1   0   0   0 981  32   4]\n",
      " [  1   0   0   0   0   0   0   1 972   0]\n",
      " [  0   1   0   4   1   6   0   2 103 892]]\n"
     ]
    }
   ],
   "source": [
    "print(confusion_matrix(y_test, predictions))"
   ],
   "metadata": {
    "collapsed": false,
    "ExecuteTime": {
     "end_time": "2023-11-21T10:45:02.584431600Z",
     "start_time": "2023-11-21T10:45:02.487691300Z"
    }
   },
   "id": "68e240f7681b3db2"
  },
  {
   "cell_type": "code",
   "execution_count": 18,
   "outputs": [
    {
     "data": {
      "text/plain": "<Axes: >"
     },
     "execution_count": 18,
     "metadata": {},
     "output_type": "execute_result"
    },
    {
     "data": {
      "text/plain": "<Figure size 1000x600 with 2 Axes>",
      "image/png": "[encoded data removed]"
     },
     "metadata": {},
     "output_type": "display_data"
    }
   ],
   "source": [
    "plt.figure(figsize=(10, 6))\n",
    "sns.heatmap(confusion_matrix(y_test, predictions), annot=True)"
   ],
   "metadata": {
    "collapsed": false,
    "ExecuteTime": {
     "end_time": "2023-11-21T10:45:10.739805900Z",
     "start_time": "2023-11-21T10:45:09.800915300Z"
    }
   },
   "id": "a35504d3fef3d500"
  },
  {
   "cell_type": "code",
   "execution_count": 19,
   "outputs": [
    {
     "data": {
      "text/plain": "<matplotlib.image.AxesImage at 0x1b57e9b10f0>"
     },
     "execution_count": 19,
     "metadata": {},
     "output_type": "execute_result"
    },
    {
     "data": {
      "text/plain": "<Figure size 640x480 with 1 Axes>",
      "image/png": "[encoded data removed]"
     },
     "metadata": {},
     "output_type": "display_data"
    }
   ],
   "source": [
    "import random\n",
    "\n",
    "random_index = random.randint(0, len(x_test))\n",
    "plt.imshow(x_test[random_index].reshape(28, 28))"
   ],
   "metadata": {
    "collapsed": false,
    "ExecuteTime": {
     "end_time": "2023-11-21T10:45:58.326401600Z",
     "start_time": "2023-11-21T10:45:58.069089800Z"
    }
   },
   "id": "6312b826fdb87e06"
  },
  {
   "cell_type": "code",
   "execution_count": 20,
   "outputs": [
    {
     "name": "stdout",
     "output_type": "stream",
     "text": [
      "1/1 [==============================] - 0s 20ms/step\n"
     ]
    },
    {
     "data": {
      "text/plain": "array([[0., 0., 0., 0., 0., 1., 0., 0., 0., 0.]], dtype=float32)"
     },
     "execution_count": 20,
     "metadata": {},
     "output_type": "execute_result"
    }
   ],
   "source": [
    "model.predict(x_test[random_index].reshape(1, 28, 28, 1))"
   ],
   "metadata": {
    "collapsed": false,
    "ExecuteTime": {
     "end_time": "2023-11-21T10:46:05.232742200Z",
     "start_time": "2023-11-21T10:46:05.141987800Z"
    }
   },
   "id": "700fc62dd87b17c4"
  },
  {
   "cell_type": "code",
   "execution_count": 21,
   "outputs": [
    {
     "data": {
      "text/plain": "5"
     },
     "execution_count": 21,
     "metadata": {},
     "output_type": "execute_result"
    }
   ],
   "source": [
    "y_test[random_index]"
   ],
   "metadata": {
    "collapsed": false,
    "ExecuteTime": {
     "end_time": "2023-11-21T10:46:11.153870Z",
     "start_time": "2023-11-21T10:46:11.042655Z"
    }
   },
   "id": "7091b9976fc5e060"
  }
 ],
 "metadata": {
  "kernelspec": {
   "display_name": "Python 3 (ipykernel)",
   "language": "python",
   "name": "python3"
  },
  "language_info": {
   "codemirror_mode": {
    "name": "ipython",
    "version": 3
   },
   "file_extension": ".py",
   "mimetype": "text/x-python",
   "name": "python",
   "nbconvert_exporter": "python",
   "pygments_lexer": "ipython3",
   "version": "3.10.13"
  }
 },
 "nbformat": 4,
 "nbformat_minor": 5
}
